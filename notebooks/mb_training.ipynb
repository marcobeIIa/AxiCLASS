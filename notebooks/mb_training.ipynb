{
 "cells": [
  {
   "cell_type": "code",
   "execution_count": 54,
   "metadata": {},
   "outputs": [],
   "source": [
    "from classy import Class\n",
    "\n",
    "import os\n",
    "import copy\n",
    "import yaml\n",
    "import matplotlib.pyplot as plt\n",
    "import numpy as np\n",
    "import matplotlib\n",
    "\n",
    "from matplotlib import rc\n",
    "from scipy.interpolate import interp1d\n",
    "\n",
    "rc('font',**{'family':'serif','serif':['Times']})\n",
    "rc('text', usetex=True)\n",
    "#matplotlib.rc('font', **font)\n",
    "matplotlib.rcParams['legend.fontsize']='medium'\n",
    "plt.rcParams[\"figure.figsize\"] = [8.0,6.0]"
   ]
  },
  {
   "cell_type": "markdown",
   "metadata": {},
   "source": [
    "## warmup\n",
    "run a fiducial cosmology "
   ]
  },
  {
   "cell_type": "code",
   "execution_count": 55,
   "metadata": {},
   "outputs": [
    {
     "data": {
      "text/plain": [
       "True"
      ]
     },
     "execution_count": 55,
     "metadata": {},
     "output_type": "execute_result"
    }
   ],
   "source": [
    "LCDM =  Class()\n",
    "baseline = {'omega_b':0.0223828,\n",
    "            'omega_cdm':0.3,\n",
    "            'h':0.67810,'A_s':2.100549e-09,\n",
    "            'n_s':0.9660499,\n",
    "            'tau_reio':0.05430842, \n",
    "            'lensing':'yes',\n",
    "            'background_verbose': 10,\n",
    "            'input_verbose': 10,\n",
    "            'output_verbose': 10,\n",
    "            }\n",
    "LCDM.set(baseline)\n",
    "LCDM.set({'output': 'tCl,pCl,lCl','output_verbose': 1,'background_verbose':1})"
   ]
  },
  {
   "cell_type": "markdown",
   "metadata": {},
   "source": [
    "run CLP cosmology..."
   ]
  },
  {
   "cell_type": "code",
   "execution_count": 56,
   "metadata": {},
   "outputs": [
    {
     "data": {
      "text/plain": [
       "True"
      ]
     },
     "execution_count": 56,
     "metadata": {},
     "output_type": "execute_result"
    }
   ],
   "source": [
    "# add CLP fluid cosmology bc EDE isn't happy \n",
    "CLP_common_dict={\n",
    "    'Omega_fld': 0.5,\n",
    "    'fluid_equation_of_state': 'CLP',\n",
    "#    'fraction_fld_ac': 0.09,\n",
    "#    'w_fld_f':omega_n,\n",
    "#    'a_c': axion_ac,\n",
    "#    'Theta_initial_fld': 0.1,\n",
    "#    'nu_fld': 0.5,\n",
    "}\n",
    "\n",
    "models = {'CLP1': Class(), 'CLP2': Class()}\n",
    "\n",
    "for name, model in models.items():\n",
    "    model.set(baseline)\n",
    "    model.set({'output': 'tCl,pCl,lCl'})\n",
    "    model.set(CLP_common_dict)\n",
    "\n",
    "CLP1 = models['CLP1']\n",
    "CLP2 = models['CLP2']\n",
    "\n",
    "#ADE.set({'ede_parametrization': 'pheno_axion_p',})\n",
    "#ADE_no_p.set({'ede_parametrization': 'pheno_axion',})\n",
    "\n",
    "CLP1.set({\n",
    "    'w0_fld': -0.1,\n",
    "    'wa_fld': -0.1,\n",
    "})\n",
    "CLP2.set({\n",
    "    'w0_fld': -0.13,\n",
    "    'wa_fld': -0.15,\n",
    "})\n"
   ]
  },
  {
   "cell_type": "code",
   "execution_count": 57,
   "metadata": {},
   "outputs": [
    {
     "name": "stdout",
     "output_type": "stream",
     "text": [
      "Reading input parameters\n",
      " -> matched budget equations by adjusting Omega_Lambda = 0.298802\n",
      "Running CLASS version v3.3.0\n",
      "Computing background\n",
      " -> age = 10.788708 Gyr\n",
      " -> conformal age = 10163.832339 Mpc\n",
      " -> N_eff = 3.044 (summed over all species that are non-relativistic at early times) \n",
      " -> radiation/matter equality at z = 7706.738456\n",
      "    corresponding to conformal time = 49.822509 Mpc\n",
      "Reading input parameters\n",
      " -> matched budget equations by adjusting Omega_Lambda = -0.201198\n",
      "Running CLASS version v3.3.0\n",
      "Computing background\n",
      "Chose ndf15 as generic_evolver\n",
      " -> age = 9.490442 Gyr\n",
      " -> conformal age = 9088.031881 Mpc\n",
      " -> N_eff = 3.044 (summed over all species that are non-relativistic at early times) \n",
      " -> radiation/matter equality at z = 7706.738456\n",
      "    corresponding to conformal time = 49.798861 Mpc\n",
      " ---------------------------- Budget equation ----------------------- \n",
      " ---> Nonrelativistic Species \n",
      "-> Bayrons                        Omega = 0.0486773       , omega = 0.0223828      \n",
      "-> Cold Dark Matter               Omega = 0.65243         , omega = 0.3            \n",
      " ---> Relativistic Species \n",
      "-> Photons                        Omega = 5.37815e-05     , omega = 2.47298e-05    \n",
      "-> Ultra-relativistic relics      Omega = 3.71799e-05     , omega = 1.70961e-05    \n",
      " ---> Other Content \n",
      "-> Cosmological Constant          Omega = -0.201198       , omega = -0.0925148     \n",
      "-> Dark Energy Fluid              Omega = 0.5             , omega = 0.22991        \n",
      " ---> Total budgets \n",
      " Radiation                        Omega = 9.09615e-05     , omega = 4.18259e-05     \n",
      " Non-relativistic                 Omega = 0.701107        , omega = 0.322383        \n",
      " Other Content                    Omega = 0.298802        , omega = 0.137395        \n",
      " TOTAL                            Omega = 1               , omega = 0.45982         \n",
      " -------------------------------------------------------------------- \n",
      "Reading input parameters\n",
      " -> matched budget equations by adjusting Omega_Lambda = -0.201198\n",
      "Running CLASS version v3.3.0\n",
      "Computing background\n",
      "Chose ndf15 as generic_evolver\n",
      " -> age = 9.618644 Gyr\n",
      " -> conformal age = 9273.209091 Mpc\n",
      " -> N_eff = 3.044 (summed over all species that are non-relativistic at early times) \n",
      " -> radiation/matter equality at z = 7706.738456\n",
      "    corresponding to conformal time = 49.819624 Mpc\n",
      " ---------------------------- Budget equation ----------------------- \n",
      " ---> Nonrelativistic Species \n",
      "-> Bayrons                        Omega = 0.0486773       , omega = 0.0223828      \n",
      "-> Cold Dark Matter               Omega = 0.65243         , omega = 0.3            \n",
      " ---> Relativistic Species \n",
      "-> Photons                        Omega = 5.37815e-05     , omega = 2.47298e-05    \n",
      "-> Ultra-relativistic relics      Omega = 3.71799e-05     , omega = 1.70961e-05    \n",
      " ---> Other Content \n",
      "-> Cosmological Constant          Omega = -0.201198       , omega = -0.0925148     \n",
      "-> Dark Energy Fluid              Omega = 0.5             , omega = 0.22991        \n",
      " ---> Total budgets \n",
      " Radiation                        Omega = 9.09615e-05     , omega = 4.18259e-05     \n",
      " Non-relativistic                 Omega = 0.701107        , omega = 0.322383        \n",
      " Other Content                    Omega = 0.298802        , omega = 0.137395        \n",
      " TOTAL                            Omega = 1               , omega = 0.45982         \n",
      " -------------------------------------------------------------------- \n"
     ]
    }
   ],
   "source": [
    "LCDM.compute()\n",
    "CLP1.compute()\n",
    "CLP2.compute()"
   ]
  },
  {
   "cell_type": "markdown",
   "metadata": {},
   "source": [
    "## warmup 2  \n",
    "plot stuff"
   ]
  },
  {
   "cell_type": "code",
   "execution_count": 58,
   "metadata": {},
   "outputs": [
    {
     "data": {
      "text/plain": [
       "<matplotlib.legend.Legend at 0x12361f250>"
      ]
     },
     "execution_count": 58,
     "metadata": {},
     "output_type": "execute_result"
    },
    {
     "data": {
      "image/png": "[encoded data removed]",
      "text/plain": [
       "<Figure size 800x600 with 1 Axes>"
      ]
     },
     "metadata": {},
     "output_type": "display_data"
    }
   ],
   "source": [
    "cls_l = LCDM.lensed_cl(2500)\n",
    "cls1 = CLP1.lensed_cl(2500)\n",
    "cls2 = CLP2.lensed_cl(2500)\n",
    "cls_all = [cls_l, cls1, cls2]\n",
    "colors = ['blue', 'red', 'green']\n",
    "labels = ['LCDM', 'clp1', 'clp2']\n",
    "for i in range(3):\n",
    "    cls = cls_all[i]\n",
    "    ll = cls['ell'][2:]\n",
    "    clTT = cls['tt'][2:]\n",
    "    clEE = cls['ee'][2:]\n",
    "    clPP = cls['pp'][2:]\n",
    "    pi = np.pi\n",
    "    plt.plot(ll,clTT*ll*(ll+1)/2./pi, color=colors[i], linestyle='dashed' if i==1 else 'solid',alpha=0.7, label = labels[i])\n",
    "    plt.xscale('log')\n",
    "plt.legend()\n"
   ]
  },
  {
   "cell_type": "markdown",
   "metadata": {},
   "source": [
    "## for the equation of state,  \n",
    "we are looking at background quantities:"
   ]
  },
  {
   "cell_type": "code",
   "execution_count": 59,
   "metadata": {},
   "outputs": [
    {
     "name": "stdout",
     "output_type": "stream",
     "text": [
      "dict_keys(['z', 'proper time [Gyr]', 'conf. time [Mpc]', 'H [1/Mpc]', 'comov. dist.', 'ang.diam.dist.', 'lum. dist.', 'comov.snd.hrz.', '(.)rho_g', '(.)rho_b', '(.)rho_cdm', '(.)rho_lambda', '(.)rho_fld', '(.)w_fld', '(.)rho_ur', '(.)rho_crit', '(.)rho_tot', '(.)p_tot', '(.)p_tot_prime', 'gr.fac. D', 'gr.fac. f'])\n"
     ]
    }
   ],
   "source": [
    "bg = CLP1.get_background()\n",
    "bg_no_p = CLP2.get_background()\n",
    "print(bg.keys())"
   ]
  },
  {
   "cell_type": "code",
   "execution_count": 62,
   "metadata": {},
   "outputs": [
    {
     "data": {
      "text/plain": [
       "[<matplotlib.lines.Line2D at 0x1237e8f50>]"
      ]
     },
     "execution_count": 62,
     "metadata": {},
     "output_type": "execute_result"
    },
    {
     "data": {
      "image/png": "[encoded data removed]",
      "text/plain": [
       "<Figure size 800x600 with 1 Axes>"
      ]
     },
     "metadata": {},
     "output_type": "display_data"
    }
   ],
   "source": [
    "rho_fld_CLP1 = bg['(.)w_fld']\n",
    "rho_fld_CLP2 = bg_no_p['(.)w_fld']\n",
    "plt.plot(bg['conf. time [Mpc]'],rho_fld_CLP1, label='rho_fld CLP1', color='blue',alpha=0.5)\n",
    "plt.plot(bg['conf. time [Mpc]'],rho_fld_CLP2, label='rho_fld CLP2', color='red', linestyle='dashed')\n",
    "#plt.yscale('log')\n",
    "#plt.xscale('log')"
   ]
  },
  {
   "cell_type": "markdown",
   "metadata": {},
   "source": [
    "Try ADE now"
   ]
  },
  {
   "cell_type": "code",
   "execution_count": 63,
   "metadata": {},
   "outputs": [
    {
     "data": {
      "text/plain": [
       "True"
      ]
     },
     "execution_count": 63,
     "metadata": {},
     "output_type": "execute_result"
    }
   ],
   "source": [
    "# add CLP fluid cosmology bc EDE isn't happy \n",
    "axion_zc = 10**3.677 \n",
    "omega_n = 0.76\n",
    "n = (1+omega_n)/(1-omega_n)\n",
    "axion_ac = 1/(axion_zc + 1)\n",
    "\n",
    "ADE_common_dict={\n",
    "    'Omega_fld': 0.5,\n",
    "    'fluid_equation_of_state': 'EDE',\n",
    "    'ede_parametrization':'pheno_axion',\n",
    "    'fraction_fld_ac': 0.09,\n",
    "    'w_fld_f':omega_n,\n",
    "    'a_c': axion_ac,\n",
    "    'Theta_initial_fld': 0.1,\n",
    "    'nu_fld': 0.5,\n",
    "}\n",
    "\n",
    "models = {'ADE1': Class(), 'ADE2': Class()}\n",
    "\n",
    "for name, model in models.items():\n",
    "    model.set(baseline)\n",
    "    model.set({'output': 'tCl,pCl,lCl'})\n",
    "    model.set(CLP_common_dict)\n",
    "\n",
    "ADE1 = models['ADE1']\n",
    "ADE2 = models['ADE2']\n",
    "\n",
    "ADE1.set({'ede_parametrization': 'pheno_axion_p',})\n",
    "ADE2.set({'ede_parametrization': 'pheno_axion',})"
   ]
  },
  {
   "cell_type": "code",
   "execution_count": 65,
   "metadata": {},
   "outputs": [
    {
     "name": "stdout",
     "output_type": "stream",
     "text": [
      "Reading input parameters\n",
      " -> matched budget equations by adjusting Omega_Lambda = -0.201198\n",
      "Running CLASS version v3.3.0\n",
      "Computing background\n",
      "Chose ndf15 as generic_evolver\n",
      " -> age = 9.490442 Gyr\n",
      " -> conformal age = 9088.031881 Mpc\n",
      " -> N_eff = 3.044 (summed over all species that are non-relativistic at early times) \n",
      " -> radiation/matter equality at z = 7706.738456\n",
      "    corresponding to conformal time = 49.798861 Mpc\n",
      " ---------------------------- Budget equation ----------------------- \n",
      " ---> Nonrelativistic Species \n",
      "-> Bayrons                        Omega = 0.0486773       , omega = 0.0223828      \n",
      "-> Cold Dark Matter               Omega = 0.65243         , omega = 0.3            \n",
      " ---> Relativistic Species \n",
      "-> Photons                        Omega = 5.37815e-05     , omega = 2.47298e-05    \n",
      "-> Ultra-relativistic relics      Omega = 3.71799e-05     , omega = 1.70961e-05    \n",
      " ---> Other Content \n",
      "-> Cosmological Constant          Omega = -0.201198       , omega = -0.0925148     \n",
      "-> Dark Energy Fluid              Omega = 0.5             , omega = 0.22991        \n",
      " ---> Total budgets \n",
      " Radiation                        Omega = 9.09615e-05     , omega = 4.18259e-05     \n",
      " Non-relativistic                 Omega = 0.701107        , omega = 0.322383        \n",
      " Other Content                    Omega = 0.298802        , omega = 0.137395        \n",
      " TOTAL                            Omega = 1               , omega = 0.45982         \n",
      " -------------------------------------------------------------------- \n",
      "Reading input parameters\n",
      " -> matched budget equations by adjusting Omega_Lambda = -0.201198\n",
      "Running CLASS version v3.3.0\n",
      "Computing background\n",
      "Chose ndf15 as generic_evolver\n",
      " -> age = 9.618644 Gyr\n",
      " -> conformal age = 9273.209091 Mpc\n",
      " -> N_eff = 3.044 (summed over all species that are non-relativistic at early times) \n",
      " -> radiation/matter equality at z = 7706.738456\n",
      "    corresponding to conformal time = 49.819624 Mpc\n",
      " ---------------------------- Budget equation ----------------------- \n",
      " ---> Nonrelativistic Species \n",
      "-> Bayrons                        Omega = 0.0486773       , omega = 0.0223828      \n",
      "-> Cold Dark Matter               Omega = 0.65243         , omega = 0.3            \n",
      " ---> Relativistic Species \n",
      "-> Photons                        Omega = 5.37815e-05     , omega = 2.47298e-05    \n",
      "-> Ultra-relativistic relics      Omega = 3.71799e-05     , omega = 1.70961e-05    \n",
      " ---> Other Content \n",
      "-> Cosmological Constant          Omega = -0.201198       , omega = -0.0925148     \n",
      "-> Dark Energy Fluid              Omega = 0.5             , omega = 0.22991        \n",
      " ---> Total budgets \n",
      " Radiation                        Omega = 9.09615e-05     , omega = 4.18259e-05     \n",
      " Non-relativistic                 Omega = 0.701107        , omega = 0.322383        \n",
      " Other Content                    Omega = 0.298802        , omega = 0.137395        \n",
      " TOTAL                            Omega = 1               , omega = 0.45982         \n",
      " -------------------------------------------------------------------- \n"
     ]
    },
    {
     "data": {
      "text/plain": [
       "{'z': array([1.00000000e+14, 9.99194400e+13, 9.98389448e+13, ...,\n",
       "        1.61314959e-03, 8.06249775e-04, 0.00000000e+00], shape=(40000,)),\n",
       " 'proper time [Gyr]': array([7.55951851e-26, 7.57171315e-26, 7.58392745e-26, ...,\n",
       "        9.59543342e+00, 9.60703061e+00, 9.61864374e+00], shape=(40000,)),\n",
       " 'conf. time [Mpc]': array([4.63478500e-09, 4.63842298e-09, 4.64387995e-09, ...,\n",
       "        9.26608704e+03, 9.26964705e+03, 9.27320909e+03], shape=(40000,)),\n",
       " 'H [1/Mpc]': array([2.15725629e+22, 2.15378192e+22, 2.15031314e+22, ...,\n",
       "        2.26811738e-04, 2.26500644e-04, 2.26189820e-04], shape=(40000,)),\n",
       " 'comov. dist.': array([9.27320909e+03, 9.27320909e+03, 9.27320909e+03, ...,\n",
       "        7.12205343e+00, 3.56203619e+00, 0.00000000e+00], shape=(40000,)),\n",
       " 'ang.diam.dist.': array([9.27320909e-11, 9.28068561e-11, 9.28816816e-11, ...,\n",
       "        7.11058300e+00, 3.55916661e+00, 0.00000000e+00], shape=(40000,)),\n",
       " 'lum. dist.': array([9.27320909e+17, 9.26573859e+17, 9.25827411e+17, ...,\n",
       "        7.13354237e+00, 3.56490808e+00, 0.00000000e+00], shape=(40000,)),\n",
       " 'comov.snd.hrz.': array([2.67631746e-09, 2.67847524e-09, 2.68063477e-09, ...,\n",
       "        8.17535266e+02, 8.17614144e+02, 8.17693035e+02], shape=(40000,)),\n",
       " '(.)rho_g': array([2.75156054e+44, 2.74270461e+44, 2.73387719e+44, ...,\n",
       "        2.76935826e-12, 2.76044505e-12, 2.75156054e-12], shape=(40000,)),\n",
       " '(.)rho_b': array([2.49042237e+33, 2.48440836e+33, 2.47840888e+33, ...,\n",
       "        2.50249409e-09, 2.49645093e-09, 2.49042237e-09], shape=(40000,)),\n",
       " '(.)rho_cdm': array([3.33795017e+34, 3.32988950e+34, 3.32184831e+34, ...,\n",
       "        3.35413008e-08, 3.34603034e-08, 3.33795017e-08], shape=(40000,)),\n",
       " '(.)rho_lambda': array([-1.02936621e-08, -1.02936621e-08, -1.02936621e-08, ...,\n",
       "        -1.02936621e-08, -1.02936621e-08, -1.02936621e-08], shape=(40000,)),\n",
       " '(.)rho_fld': array([6.97185914e+22, 6.95973310e+22, 6.94762815e+22, ...,\n",
       "        2.56887478e-08, 2.56347805e-08, 2.55809190e-08], shape=(40000,)),\n",
       " '(.)w_fld': array([-0.28      , -0.28      , -0.28      , ..., -0.13024158,\n",
       "        -0.13012084, -0.13      ], shape=(40000,)),\n",
       " '(.)rho_ur': array([1.90219418e+44, 1.89607195e+44, 1.88996942e+44, ...,\n",
       "        1.91449800e-12, 1.90833617e-12, 1.90219418e-12], shape=(40000,)),\n",
       " '(.)rho_crit': array([4.65375471e+44, 4.63877656e+44, 4.62384662e+44, ...,\n",
       "        5.14435645e-08, 5.13025416e-08, 5.11618348e-08], shape=(40000,)),\n",
       " '(.)rho_tot': array([4.65375471e+44, 4.63877656e+44, 4.62384662e+44, ...,\n",
       "        5.14435645e-08, 5.13025416e-08, 5.11618348e-08], shape=(40000,)),\n",
       " '(.)p_tot': array([1.55125157e+44, 1.54625885e+44, 1.54128221e+44, ...,\n",
       "        6.94948017e-09, 6.95959915e-09, 6.96969384e-09], shape=(40000,)),\n",
       " '(.)p_tot_prime': array([-1.33857889e+53, -1.33319577e+53, -1.32783430e+53, ...,\n",
       "         2.84661886e-12,  2.83817727e-12,  2.82975650e-12], shape=(40000,)),\n",
       " 'gr.fac. D': array([3.11037576e-06, 3.11538922e-06, 3.12040268e-06, ...,\n",
       "        9.98705638e-01, 9.99352555e-01, 1.00000000e+00], shape=(40000,)),\n",
       " 'gr.fac. f': array([2.        , 1.99678149, 1.99357332, ..., 0.80341429, 0.80354886,\n",
       "        0.80368406], shape=(40000,))}"
      ]
     },
     "execution_count": 65,
     "metadata": {},
     "output_type": "execute_result"
    }
   ],
   "source": [
    "ADE1.compute()\n",
    "ADE2.compute()\n",
    "\n",
    "ADE1.get_background()\n",
    "ADE2.get_background()"
   ]
  }
 ],
 "metadata": {
  "kernelspec": {
   "display_name": "3.13.5",
   "language": "python",
   "name": "python3"
  },
  "language_info": {
   "codemirror_mode": {
    "name": "ipython",
    "version": 3
   },
   "file_extension": ".py",
   "mimetype": "text/x-python",
   "name": "python",
   "nbconvert_exporter": "python",
   "pygments_lexer": "ipython3",
   "version": "3.13.5"
  }
 },
 "nbformat": 4,
 "nbformat_minor": 2
}
