{
 "cells": [
  {
   "cell_type": "code",
   "execution_count": 1,
   "metadata": {},
   "outputs": [],
   "source": [
    "from classy import Class\n",
    "\n",
    "import os\n",
    "import copy\n",
    "import yaml\n",
    "import matplotlib.pyplot as plt\n",
    "import numpy as np\n",
    "import matplotlib\n",
    "\n",
    "from matplotlib import rc\n",
    "from scipy.interpolate import interp1d\n",
    "\n",
    "rc('font',**{'family':'serif','serif':['Times']})\n",
    "rc('text', usetex=True)\n",
    "#matplotlib.rc('font', **font)\n",
    "matplotlib.rcParams['legend.fontsize']='medium'\n",
    "plt.rcParams[\"figure.figsize\"] = [8.0,6.0]"
   ]
  },
  {
   "cell_type": "markdown",
   "metadata": {},
   "source": [
    "## warmup\n",
    "run a fiducial cosmology "
   ]
  },
  {
   "cell_type": "code",
   "execution_count": 2,
   "metadata": {},
   "outputs": [
    {
     "data": {
      "text/plain": [
       "True"
      ]
     },
     "execution_count": 2,
     "metadata": {},
     "output_type": "execute_result"
    }
   ],
   "source": [
    "LCDM =  Class()\n",
    "baseline = {'omega_b':0.0223828,\n",
    "            'omega_cdm':0.3,\n",
    "            'h':0.67810,'A_s':2.100549e-09,\n",
    "            'n_s':0.9660499,\n",
    "            'tau_reio':0.05430842, \n",
    "            'lensing':'yes',\n",
    "            'background_verbose': 10,\n",
    "            'input_verbose': 10,\n",
    "            'output_verbose': 10,\n",
    "            }\n",
    "LCDM.set(baseline)\n",
    "LCDM.set({'output': 'tCl,pCl,lCl','output_verbose': 1,'background_verbose':1})"
   ]
  },
  {
   "cell_type": "markdown",
   "metadata": {},
   "source": [
    "Try ADE now"
   ]
  },
  {
   "cell_type": "code",
   "execution_count": 4,
   "metadata": {},
   "outputs": [],
   "source": [
    "# pheno_axion should work\n",
    "# pheno_axion_p is a different parametrisation implemented by myself \n",
    "# and has no particular reason to work\n",
    "# for i am a failure \n",
    "\n",
    "axion_zc = 10**3.677 \n",
    "omega_n = 0.76\n",
    "n = (1+omega_n)/(1-omega_n)\n",
    "axion_ac = 1/(axion_zc + 1)\n",
    "\n",
    "ADE_common_dict={\n",
    "    'fluid_equation_of_state': 'EDE',\n",
    "    'ede_parametrization':'pheno_axion',\n",
    "    'fraction_fld_ac': 0.09,\n",
    "    'w_fld_f':omega_n,\n",
    "    'a_c': axion_ac,\n",
    "    'Theta_initial_fld': 0.1,\n",
    "    'nu_fld': 0.5,\n",
    "}\n",
    "\n",
    "models = {'ADE1': Class(), 'ADE2': Class()}\n",
    "\n",
    "for name, model in models.items():\n",
    "    model.set(baseline)\n",
    "    model.set({'output': 'tCl,pCl,lCl'})\n",
    "    model.set(ADE_common_dict)\n",
    "\n",
    "ADE1 = models['ADE1']\n",
    "ADE2 = models['ADE2']\n",
    "\n",
    "#ADE1.set({'ede_parametrization': 'pheno_axion_p',})\n",
    "#ADE2.set({'ede_parametrization': 'pheno_axion',})"
   ]
  },
  {
   "cell_type": "code",
   "execution_count": 3,
   "metadata": {},
   "outputs": [
    {
     "name": "stdout",
     "output_type": "stream",
     "text": [
      "Reading input parameters\n",
      "Reading input parameters\n",
      " -> matched budget equations by adjusting Omega_Lambda = 0.298802\n",
      "Running CLASS version v3.3.0\n",
      "Computing background\n",
      " -> age = 10.788708 Gyr\n",
      " -> conformal age = 10163.832339 Mpc\n",
      " -> H0 = 67.810000 km/s/Mpc\n",
      " -> N_eff = 3.044 (summed over all species that are non-relativistic at early times) \n",
      " -> radiation/matter equality at z = 7706.738456\n",
      "    corresponding to conformal time = 49.822509 Mpc\n"
     ]
    }
   ],
   "source": [
    "#LCDM.compute()\n",
    "ADE1.compute()\n",
    "#ADE2.compute()\n",
    "\n",
    "#ADE1.get_background()\n",
    "#ADE2.get_background()"
   ]
  },
  {
   "cell_type": "code",
   "execution_count": null,
   "metadata": {},
   "outputs": [],
   "source": [
    "cls_l = LCDM.lensed_cl(2500)\n",
    "cls1 = ADE1.lensed_cl(2500)\n",
    "cls2 = ADE2.lensed_cl(2500)\n",
    "cls_all = [cls_l, cls1, cls2]\n",
    "colors = ['blue', 'red', 'green']\n",
    "labels = ['LCDM', 'ade1', 'ade2']\n",
    "for i in range(3):\n",
    "    cls = cls_all[i]\n",
    "    ll = cls['ell'][2:]\n",
    "    clTT = cls['tt'][2:]\n",
    "    clEE = cls['ee'][2:]\n",
    "    clPP = cls['pp'][2:]\n",
    "    pi = np.pi\n",
    "    plt.plot(ll,clTT*ll*(ll+1)/2./pi, color=colors[i], linestyle='dashed' if i==1 else 'solid',alpha=0.7, label = labels[i])\n",
    "    plt.xscale('log')\n",
    "plt.legend()\n"
   ]
  },
  {
   "cell_type": "code",
   "execution_count": null,
   "metadata": {},
   "outputs": [],
   "source": [
    "bg = ADE1.get_background()\n",
    "bg_no_p = ADE2.get_background()\n",
    "print(bg.keys())"
   ]
  },
  {
   "cell_type": "code",
   "execution_count": null,
   "metadata": {},
   "outputs": [],
   "source": [
    "rho_fld_ADE1 = bg['(.)w_fld']\n",
    "rho_fld_ADE2 = bg_no_p['(.)w_fld']\n",
    "plt.plot(bg['conf. time [Mpc]'],rho_fld_ADE1, label='rho_fld ADE1', color='blue',alpha=0.5)\n",
    "plt.plot(bg['conf. time [Mpc]'],rho_fld_ADE2, label='rho_fld ADE2', color='red', linestyle='dashed')\n",
    "#plt.yscale('log')\n",
    "#plt.xscale('log')"
   ]
  }
 ],
 "metadata": {
  "kernelspec": {
   "display_name": "3.13.5",
   "language": "python",
   "name": "python3"
  },
  "language_info": {
   "codemirror_mode": {
    "name": "ipython",
    "version": 3
   },
   "file_extension": ".py",
   "mimetype": "text/x-python",
   "name": "python",
   "nbconvert_exporter": "python",
   "pygments_lexer": "ipython3",
   "version": "3.13.5"
  }
 },
 "nbformat": 4,
 "nbformat_minor": 2
}
